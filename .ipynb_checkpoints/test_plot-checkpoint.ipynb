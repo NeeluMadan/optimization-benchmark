{
 "cells": [
  {
   "cell_type": "code",
   "execution_count": 1,
   "metadata": {},
   "outputs": [],
   "source": [
    "\"\"\"This is a module containing a test of the gradient method.\"\"\"\n",
    "\n",
    "import numpy as np\n",
    "from optimizers import StupidGradientDescent\n",
    "from functions import RosenBrock\n",
    "\n",
    "import matplotlib.pyplot as plt\n",
    "import matplotlib as mpl\n",
    "mpl.style.use('seaborn')"
   ]
  },
  {
   "cell_type": "code",
   "execution_count": 3,
   "metadata": {},
   "outputs": [
    {
     "name": "stdout",
     "output_type": "stream",
     "text": [
      " Saving the plot to rosenbrock.png\n"
     ]
    },
    {
     "data": {
      "image/png": "[encoded data removed]",
      "text/plain": [
       "<Figure size 432x288 with 1 Axes>"
      ]
     },
     "metadata": {},
     "output_type": "display_data"
    }
   ],
   "source": [
    "BUDGET = 1000\n",
    "\n",
    "if __name__ == \"__main__\":\n",
    "    # initialize the benchmark function object\n",
    "    fr = RosenBrock()\n",
    "    # this is making sure it is deterministic randomness\n",
    "    np.random.seed(seed=42)\n",
    "    # initialize optimization algorithm object\n",
    "    initstate = 10*(np.random.rand(2, 1)-1)[:, 0]\n",
    "    gd = StupidGradientDescent(0.0001, initstate, fr.grad)\n",
    "\n",
    "    # numpy array for logging\n",
    "    performance = np.zeros((BUDGET,))\n",
    "\n",
    "    for i in range(BUDGET):\n",
    "        # take a gradient step with constant alpha\n",
    "        gd.step()\n",
    "        # save f value\n",
    "        performance[i] = fr.eval(gd.state[0], gd.state[1])\n",
    "\n",
    "    plt.plot(np.log10(performance))\n",
    "    \n",
    "    print(\" Saving the plot to rosenbrock.png\")\n",
    "    plt.savefig(\"rosenbrock.png\", dpi=200)"
   ]
  },
  {
   "cell_type": "code",
   "execution_count": null,
   "metadata": {},
   "outputs": [],
   "source": []
  }
 ],
 "metadata": {
  "kernelspec": {
   "display_name": "Python [conda env:dl4nlp]",
   "language": "python",
   "name": "conda-env-dl4nlp-py"
  },
  "language_info": {
   "codemirror_mode": {
    "name": "ipython",
    "version": 3
   },
   "file_extension": ".py",
   "mimetype": "text/x-python",
   "name": "python",
   "nbconvert_exporter": "python",
   "pygments_lexer": "ipython3",
   "version": "3.6.5"
  }
 },
 "nbformat": 4,
 "nbformat_minor": 2
}
